{
 "cells": [
  {
   "cell_type": "code",
   "execution_count": 1,
   "metadata": {},
   "outputs": [],
   "source": [
    "import networkx as nx\n",
    "import powerlaw\n",
    "import numpy as np\n",
    "import pandas as pd\n",
    "import multiprocessing as mp\n",
    "import random\n",
    "\n",
    "import sys\n",
    "sys.path.append('..')\n",
    "import network_utils as ne"
   ]
  },
  {
   "cell_type": "code",
   "execution_count": 2,
   "metadata": {},
   "outputs": [],
   "source": [
    "SEED = 42\n",
    "random.seed(SEED)\n",
    "np.random.seed(SEED)"
   ]
  },
  {
   "cell_type": "code",
   "execution_count": 3,
   "metadata": {},
   "outputs": [],
   "source": [
    "ROUND_DIG = 4\n",
    "with pd.HDFStore('../data/gene_network_data.h5') as store:\n",
    "    tec = store['TEC']\n",
    "np_tec_abs = np.abs(tec.to_numpy(copy=True))"
   ]
  },
  {
   "cell_type": "code",
   "execution_count": 4,
   "metadata": {},
   "outputs": [],
   "source": [
    "def generate_synthetic_ks(degree_sequence, ntail, xmin) -> list[int]:\n",
    "    \"\"\"\n",
    "    Generate a synthetic distribution for scale-free analysis \n",
    "    --------------------------\n",
    "    Args:\n",
    "        degree_sequence (list[int]): Array of node degrees.\n",
    "        ntail (int): Number of nodes with degrees greater than k*_min.\n",
    "        xmin (int): k*_min. \n",
    "    Returns:\n",
    "        synthetic_seq (list[int]): Synthetic degree sequence. \n",
    "    \"\"\"\n",
    "    fit = powerlaw.Fit(degree_sequence, xmin=xmin, discrete=True, verbose=False)\n",
    "    n = len(degree_sequence)\n",
    "    synthetic_seq = []\n",
    "    emperical_set = [deg for deg in degree_sequence if deg < xmin] # distribution of nodes degree below xmin \n",
    "    \n",
    "    for _ in range(n):\n",
    "        if np.random.rand() < (ntail / n): # sample from fitted power law\n",
    "            synthetic_seq.append(fit.power_law.generate_random(1)[0])\n",
    "        else: # sample from emperical distribution below k*_min\n",
    "            synthetic_seq.append(np.random.choice(emperical_set))\n",
    "    return synthetic_seq"
   ]
  },
  {
   "cell_type": "code",
   "execution_count": 5,
   "metadata": {},
   "outputs": [],
   "source": [
    "\n",
    "def goodness_of_fit_multiprocess(degree_sequence, fit, num_synthetic=1000) -> float:\n",
    "    \"\"\"\n",
    "    Test the goodness of fit of power law distribution \n",
    "    --------------------------\n",
    "    Args:\n",
    "        degree_sequence (list[int]): Emperical degree distribution.\n",
    "        fit: powerlaw package fit of degree_sequence.\n",
    "        num_synthetic (int): Number of synthetic distribution used for testing. \n",
    "    Returns:\n",
    "        p_value (float): p_value for goodness of fit.  \n",
    "    \"\"\"\n",
    "    ntail = sum(deg >= fit.xmin for deg in degree_sequence) # number of nodes with degree above xmin \n",
    "    \n",
    "    # use multiprocessing for faster speed\n",
    "    pool_args = [(degree_sequence, ntail, fit.xmin) for _ in range(num_synthetic)]\n",
    "    with mp.get_context(\"fork\").Pool(processes=mp.cpu_count()) as pool:\n",
    "        results = [pool.apply_async(generate_synthetic_ks, args=args) for args in pool_args]\n",
    "        synthetic_samples = [r.get() for r in results]\n",
    "    \n",
    "    D_synthetic = [] # fit each synethetic to its own power law\n",
    "    for sample in synthetic_samples:\n",
    "        fit_synthetic = powerlaw.Fit(sample, discrete=True, verbose=False)\n",
    "        D_synthetic.append(fit_synthetic.D)\n",
    "    p_value = np.sum(D_synthetic >= fit.D) / len(D_synthetic) # fraction of synthetic distributions with a worse KS D statistic \n",
    "    return p_value"
   ]
  },
  {
   "cell_type": "code",
   "execution_count": 6,
   "metadata": {},
   "outputs": [
    {
     "name": "stdout",
     "output_type": "stream",
     "text": [
      "xmin progress: 97%\r"
     ]
    },
    {
     "name": "stderr",
     "output_type": "stream",
     "text": [
      "Assuming nested distributions\n"
     ]
    },
    {
     "name": "stdout",
     "output_type": "stream",
     "text": [
      "xmin progress: 97%\r"
     ]
    },
    {
     "name": "stderr",
     "output_type": "stream",
     "text": [
      "Assuming nested distributions\n"
     ]
    }
   ],
   "source": [
    "thresholds = [0.9, 0.85]\n",
    "#! Running takes multiple hours to finish\n",
    "# thresholds = [0.9, 0.85, 0.8, 0.75, 0.7, 0.65, 0.6, 0.55, 0.5]\n",
    "results = []\n",
    "for thresh in thresholds:\n",
    "    curr_result = []\n",
    "    curr_result.append(thresh)\n",
    "    curr_al = ne.threshold_weighted_adjacency_list(np_tec_abs, thresh)\n",
    "    curr_graph = ne.construct_network(curr_al, \"TEC\", tec.columns)\n",
    "\n",
    "    tec_degrees = [curr_graph.degree(n) for n in curr_graph.nodes()]\n",
    "    tec_fit = powerlaw.Fit(tec_degrees, discrete=True, verbose=False)\n",
    "    curr_result.append(round(tec_fit.xmin, ROUND_DIG))\n",
    "    curr_result.append(round(tec_fit.alpha, ROUND_DIG))\n",
    "    curr_result.append(round(tec_fit.D, ROUND_DIG))\n",
    "\n",
    "    tec_degrees = [curr_graph.degree(n) for n in curr_graph.nodes()]\n",
    "    pfit = goodness_of_fit_multiprocess(tec_degrees, tec_fit, 1000).item()\n",
    "    curr_result.append(round(pfit, ROUND_DIG))\n",
    "\n",
    "    n = nx.number_of_nodes(curr_graph)\n",
    "    ba_m = nx.number_of_edges(curr_graph) // nx.number_of_nodes(curr_graph)\n",
    "    G_barabasi_albert = nx.barabasi_albert_graph(n, ba_m, seed=SEED)\n",
    "\n",
    "    ba_degrees = [G_barabasi_albert.degree(n) for n in G_barabasi_albert.nodes()]\n",
    "    ba_fit = powerlaw.Fit(ba_degrees, discrete=True, verbose=False)\n",
    "    ba_pfit = goodness_of_fit_multiprocess(ba_degrees, ba_fit, 1000)\n",
    "    curr_result.append(round(ba_pfit, ROUND_DIG))\n",
    "\n",
    "    alternatives = ['exponential', 'lognormal_positive', 'truncated_power_law'] \n",
    "    for alternative in alternatives:\n",
    "        curr_r, curr_p = tec_fit.distribution_compare('power_law', alternative, nested=False)\n",
    "        curr_result.append((curr_r, curr_p))\n",
    "    results.append(curr_result)"
   ]
  },
  {
   "cell_type": "code",
   "execution_count": 7,
   "metadata": {},
   "outputs": [
    {
     "data": {
      "text/html": [
       "<div>\n",
       "<style scoped>\n",
       "    .dataframe tbody tr th:only-of-type {\n",
       "        vertical-align: middle;\n",
       "    }\n",
       "\n",
       "    .dataframe tbody tr th {\n",
       "        vertical-align: top;\n",
       "    }\n",
       "\n",
       "    .dataframe thead th {\n",
       "        text-align: right;\n",
       "    }\n",
       "</style>\n",
       "<table border=\"1\" class=\"dataframe\">\n",
       "  <thead>\n",
       "    <tr style=\"text-align: right;\">\n",
       "      <th></th>\n",
       "      <th>Threshold</th>\n",
       "      <th>k_min</th>\n",
       "      <th>alpha</th>\n",
       "      <th>D statistic</th>\n",
       "      <th>p_fit</th>\n",
       "      <th>BA p_fit</th>\n",
       "      <th>exponential</th>\n",
       "      <th>lognormal_positive</th>\n",
       "      <th>truncated_power_law</th>\n",
       "    </tr>\n",
       "  </thead>\n",
       "  <tbody>\n",
       "    <tr>\n",
       "      <th>0</th>\n",
       "      <td>0.90</td>\n",
       "      <td>1.0</td>\n",
       "      <td>1.4011</td>\n",
       "      <td>0.1448</td>\n",
       "      <td>0.0</td>\n",
       "      <td>0.605</td>\n",
       "      <td>(49.89887919185541, 0.0035566803765326345)</td>\n",
       "      <td>(-12.106117160038437, 3.7085812827541936e-05)</td>\n",
       "      <td>(-24.399915000442277, 2.8346214264729497e-12)</td>\n",
       "    </tr>\n",
       "    <tr>\n",
       "      <th>1</th>\n",
       "      <td>0.85</td>\n",
       "      <td>1.0</td>\n",
       "      <td>1.5094</td>\n",
       "      <td>0.0775</td>\n",
       "      <td>0.0</td>\n",
       "      <td>0.930</td>\n",
       "      <td>(381.17397437571276, 1.88940594226276e-48)</td>\n",
       "      <td>(-11.443810416206889, 0.022920229058544135)</td>\n",
       "      <td>(-29.403556729171598, 1.7430501486614958e-14)</td>\n",
       "    </tr>\n",
       "  </tbody>\n",
       "</table>\n",
       "</div>"
      ],
      "text/plain": [
       "   Threshold  k_min   alpha  D statistic  p_fit  BA p_fit  \\\n",
       "0       0.90    1.0  1.4011       0.1448    0.0     0.605   \n",
       "1       0.85    1.0  1.5094       0.0775    0.0     0.930   \n",
       "\n",
       "                                  exponential  \\\n",
       "0  (49.89887919185541, 0.0035566803765326345)   \n",
       "1  (381.17397437571276, 1.88940594226276e-48)   \n",
       "\n",
       "                              lognormal_positive  \\\n",
       "0  (-12.106117160038437, 3.7085812827541936e-05)   \n",
       "1    (-11.443810416206889, 0.022920229058544135)   \n",
       "\n",
       "                             truncated_power_law  \n",
       "0  (-24.399915000442277, 2.8346214264729497e-12)  \n",
       "1  (-29.403556729171598, 1.7430501486614958e-14)  "
      ]
     },
     "execution_count": 7,
     "metadata": {},
     "output_type": "execute_result"
    }
   ],
   "source": [
    "result_df = pd.DataFrame(\n",
    "    results, \n",
    "    columns=['Threshold', 'k_min', 'alpha', 'D statistic', 'p_fit', 'BA p_fit','exponential', 'lognormal_positive', 'truncated_power_law']\n",
    ")\n",
    "result_df.head()"
   ]
  }
 ],
 "metadata": {
  "kernelspec": {
   "display_name": "Python 3.12.8 ('.venv': venv)",
   "language": "python",
   "name": "python3"
  },
  "language_info": {
   "codemirror_mode": {
    "name": "ipython",
    "version": 3
   },
   "file_extension": ".py",
   "mimetype": "text/x-python",
   "name": "python",
   "nbconvert_exporter": "python",
   "pygments_lexer": "ipython3",
   "version": "3.12.8"
  },
  "orig_nbformat": 4,
  "vscode": {
   "interpreter": {
    "hash": "407944dbc6e053b799f7cdb8407b37bf477d75ee466034f0de1d050ef70e0fe3"
   }
  }
 },
 "nbformat": 4,
 "nbformat_minor": 2
}
