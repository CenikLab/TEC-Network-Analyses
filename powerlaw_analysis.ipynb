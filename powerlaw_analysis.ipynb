{
 "cells": [
  {
   "cell_type": "code",
   "execution_count": 1,
   "metadata": {},
   "outputs": [],
   "source": [
    "import network_utils as ne\n",
    "import networkx as nx\n",
    "import powerlaw\n",
    "import numpy as np\n",
    "import pandas as pd\n",
    "import multiprocessing as mp"
   ]
  },
  {
   "cell_type": "markdown",
   "metadata": {},
   "source": [
    "#### Function calls"
   ]
  },
  {
   "cell_type": "code",
   "execution_count": 2,
   "metadata": {},
   "outputs": [],
   "source": [
    "def generate_synthetic_ks(degree_sequence, ntail, xmin) -> list[int]:\n",
    "    \"\"\"\n",
    "    Generate a synthetic distribution for scale-free analysis \n",
    "    --------------------------\n",
    "    Args:\n",
    "        degree_sequence (list[int]): Array of node degrees.\n",
    "        ntail (int): Number of nodes with degrees greater than k*_min.\n",
    "        xmin (int): k*_min. \n",
    "    Returns:\n",
    "        synthetic_seq (list[int]): Synthetic degree sequence. \n",
    "    \"\"\"\n",
    "    fit = powerlaw.Fit(degree_sequence, xmin=xmin, discrete=True, verbose=False)\n",
    "    n = len(degree_sequence)\n",
    "    synthetic_seq = []\n",
    "    emperical_set = [deg for deg in degree_sequence if deg < xmin] # distribution of nodes degree below xmin \n",
    "    \n",
    "    for _ in range(n):\n",
    "        if np.random.rand() < (ntail / n): # sample from fitted power law\n",
    "            synthetic_seq.append(fit.power_law.generate_random(1)[0])\n",
    "        else: # sample from emperical distribution below k*_min\n",
    "            synthetic_seq.append(np.random.choice(emperical_set))\n",
    "    return synthetic_seq"
   ]
  },
  {
   "cell_type": "code",
   "execution_count": 3,
   "metadata": {},
   "outputs": [],
   "source": [
    "\n",
    "def goodness_of_fit_multiprocess(degree_sequence, fit, num_synthetic=1000) -> float:\n",
    "    \"\"\"\n",
    "    Test the goodness of fit of power law distribution \n",
    "    --------------------------\n",
    "    Args:\n",
    "        degree_sequence (list[int]): Emperical degree distribution.\n",
    "        fit: powerlaw package fit of degree_sequence.\n",
    "        num_synthetic (int): Number of synthetic distribution used for testing. \n",
    "    Returns:\n",
    "        p_value (float): p_value for goodness of fit.  \n",
    "    \"\"\"\n",
    "    ntail = sum(deg >= fit.xmin for deg in degree_sequence) # number of nodes with degree above xmin \n",
    "    \n",
    "    # use multiprocessing for faster speed\n",
    "    pool_args = [(degree_sequence, ntail, fit.xmin) for _ in range(num_synthetic)]\n",
    "    with mp.get_context(\"fork\").Pool(processes=mp.cpu_count()) as pool:\n",
    "        results = [pool.apply_async(generate_synthetic_ks, args=args) for args in pool_args]\n",
    "        synthetic_samples = [r.get() for r in results]\n",
    "    \n",
    "    D_synthetic = [] # fit each synethetic to its own power law\n",
    "    for sample in synthetic_samples:\n",
    "        fit_synthetic = powerlaw.Fit(sample, discrete=True, verbose=False)\n",
    "        D_synthetic.append(fit_synthetic.D)\n",
    "    p_value = np.sum(D_synthetic >= fit.D) / len(D_synthetic) # fraction of synthetic distributions with a worse KS D statistic \n",
    "    return p_value"
   ]
  },
  {
   "cell_type": "markdown",
   "metadata": {},
   "source": [
    "#### Load Data"
   ]
  },
  {
   "cell_type": "code",
   "execution_count": 4,
   "metadata": {},
   "outputs": [],
   "source": [
    "with pd.HDFStore('./data/gene_network_data.h5') as store:\n",
    "    tec = store['TEC']\n",
    "np_tec_abs = np.abs(tec.to_numpy(copy=True))"
   ]
  },
  {
   "cell_type": "markdown",
   "metadata": {},
   "source": [
    "#### Scale-free analysis specifically for TEC network at threshold of 0.75"
   ]
  },
  {
   "cell_type": "code",
   "execution_count": 5,
   "metadata": {},
   "outputs": [],
   "source": [
    "tec_al = ne.threshold_weighted_adjacency_list(np_tec_abs, 0.75)\n",
    "tec_graph_75 = ne.construct_network(tec_al, \"TEC_75\", tec.columns)"
   ]
  },
  {
   "cell_type": "code",
   "execution_count": 6,
   "metadata": {},
   "outputs": [
    {
     "name": "stdout",
     "output_type": "stream",
     "text": [
      "TEC Network: 3804 nodes with 26878 edges\n",
      "Barabasi Albert Network: 3804 nodes with 26579 edges\n"
     ]
    }
   ],
   "source": [
    "n = nx.number_of_nodes(tec_graph_75)\n",
    "ba_m = nx.number_of_edges(tec_graph_75) // nx.number_of_nodes(tec_graph_75) # edge to node ratio\n",
    "G_barabasi_albert = nx.barabasi_albert_graph(n, ba_m) # generate Barabais Albert model for comparison\n",
    "\n",
    "print(f\"TEC Network: {n} nodes with {nx.number_of_edges(tec_graph_75)} edges\")\n",
    "print(f\"Barabasi Albert Network: {nx.number_of_nodes(G_barabasi_albert)} nodes with {nx.number_of_edges(G_barabasi_albert)} edges\")"
   ]
  },
  {
   "cell_type": "code",
   "execution_count": 7,
   "metadata": {},
   "outputs": [
    {
     "name": "stdout",
     "output_type": "stream",
     "text": [
      "Estimated kmin: 8.0\n",
      "Estimated alpha: 1.8658538710650574\n",
      "Kolmogorov-Smirnov D-statistic: 0.06581487793566387\n",
      "TEC network has PVALUE: 0.0\n",
      "ratio, p-value for exponential: (23.651634042376966, 0.30483748246156417)\n",
      "ratio, p-value for lognormal_positive: (-71.93230492742833, 2.1233147924720665e-15)\n"
     ]
    },
    {
     "name": "stderr",
     "output_type": "stream",
     "text": [
      "Assuming nested distributions\n"
     ]
    },
    {
     "name": "stdout",
     "output_type": "stream",
     "text": [
      "ratio, p-value for truncated_power_law: (-97.99961349442597, 0.0)\n"
     ]
    }
   ],
   "source": [
    "tec_degrees = [tec_graph_75.degree(n) for n in tec_graph_75.nodes()]\n",
    "tec_fit = powerlaw.Fit(tec_degrees, discrete=True, verbose=False)\n",
    "\n",
    "kmin = tec_fit.xmin\n",
    "alpha = tec_fit.alpha\n",
    "D = tec_fit.D\n",
    "\n",
    "print(f\"Estimated kmin: {kmin}\")\n",
    "print(f\"Estimated alpha: {alpha}\")\n",
    "print(f\"Kolmogorov-Smirnov D-statistic: {D}\")\n",
    "\n",
    "p_value = goodness_of_fit_multiprocess(tec_degrees, tec_fit, 1000)\n",
    "print(f'TEC network has PVALUE: {p_value}')\n",
    "\n",
    "alternatives = ['exponential', 'lognormal_positive', 'truncated_power_law'] # alternatives to test\n",
    "for alternative in alternatives:\n",
    "    curr_r, curr_p = tec_fit.distribution_compare('power_law', alternative, nested=False)\n",
    "    print(f\"ratio, p-value for {alternative}: ({curr_r}, {curr_p})\")"
   ]
  },
  {
   "cell_type": "code",
   "execution_count": 8,
   "metadata": {},
   "outputs": [
    {
     "name": "stdout",
     "output_type": "stream",
     "text": [
      "Estimated kmin: 9.0\n",
      "Estimated alpha: 2.8711151451723693\n",
      "Kolmogorov-Smirnov D-statistic: 0.009889285736095044\n",
      "BA Model has PVALUE: 0.642\n",
      "ratio, p-value for exponential: (427.4636032021505, 1.4542420643114792e-15)\n",
      "ratio, p-value for lognormal_positive: (20.657757393463932, 0.0026337047434299315)\n"
     ]
    },
    {
     "name": "stderr",
     "output_type": "stream",
     "text": [
      "Assuming nested distributions\n"
     ]
    },
    {
     "name": "stdout",
     "output_type": "stream",
     "text": [
      "ratio, p-value for truncated_power_law: (-0.5516618250334817, 0.29353785740169425)\n"
     ]
    }
   ],
   "source": [
    "ba_degrees = [G_barabasi_albert.degree(n) for n in G_barabasi_albert.nodes()]\n",
    "ba_fit = powerlaw.Fit(ba_degrees, discrete=True, verbose=False)\n",
    "\n",
    "kmin = ba_fit.xmin\n",
    "alpha = ba_fit.alpha\n",
    "D = ba_fit.D\n",
    "\n",
    "print(f\"Estimated kmin: {kmin}\")\n",
    "print(f\"Estimated alpha: {alpha}\")\n",
    "print(f\"Kolmogorov-Smirnov D-statistic: {D}\")\n",
    "\n",
    "p_value = goodness_of_fit_multiprocess(ba_degrees, ba_fit, 1000)\n",
    "print(f'BA Model has PVALUE: {p_value}')\n",
    "\n",
    "alternatives = ['exponential', 'lognormal_positive', 'truncated_power_law'] # stretched_exponential, truncated_power_law\n",
    "\n",
    "for alternative in alternatives:\n",
    "    curr_r, curr_p = ba_fit.distribution_compare('power_law', alternative, nested=False)\n",
    "    print(f\"ratio, p-value for {alternative}: ({curr_r}, {curr_p})\")"
   ]
  },
  {
   "cell_type": "markdown",
   "metadata": {},
   "source": [
    "#### Scale-free analysis by threhold"
   ]
  },
  {
   "cell_type": "code",
   "execution_count": 9,
   "metadata": {},
   "outputs": [
    {
     "name": "stdout",
     "output_type": "stream",
     "text": [
      "xmin progress: 98%\r"
     ]
    },
    {
     "name": "stderr",
     "output_type": "stream",
     "text": [
      "Assuming nested distributions\n"
     ]
    },
    {
     "name": "stdout",
     "output_type": "stream",
     "text": [
      "xmin progress: 98%\r"
     ]
    },
    {
     "name": "stderr",
     "output_type": "stream",
     "text": [
      "Assuming nested distributions\n"
     ]
    }
   ],
   "source": [
    "#! Running takes multiple hours to finish\n",
    "# thresholds = [0.9, 0.85, 0.8, 0.75, 0.7, 0.65, 0.6, 0.55, 0.5]\n",
    "thresholds = [0.9, 0.85]\n",
    "result = []\n",
    "for thresh in thresholds:\n",
    "    curr_result = []\n",
    "    curr_al = ne.threshold_weighted_adjacency_list(np_tec_abs, thresh)\n",
    "    curr_graph = ne.construct_network(curr_al, \"TEC\", tec.columns)\n",
    "\n",
    "    n = nx.number_of_nodes(curr_graph)\n",
    "    ba_m = nx.number_of_edges(curr_graph) // nx.number_of_nodes(curr_graph)\n",
    "    G_barabasi_albert = nx.barabasi_albert_graph(n, ba_m)\n",
    "\n",
    "    tec_degrees = [curr_graph.degree(n) for n in curr_graph.nodes()]\n",
    "    tec_fit = powerlaw.Fit(tec_degrees, discrete=True, verbose=False)\n",
    "\n",
    "    curr_result.append(tec_fit.xmin)\n",
    "    curr_result.append(tec_fit.alpha)\n",
    "    curr_result.append(tec_fit.D)\n",
    "\n",
    "    tec_degrees = [curr_graph.degree(n) for n in curr_graph.nodes()]\n",
    "    pfit = goodness_of_fit_multiprocess(tec_degrees, tec_fit, 1000).item()\n",
    "    curr_result.append(pfit)\n",
    "\n",
    "    alternatives = ['exponential', 'lognormal_positive', 'truncated_power_law']\n",
    "    for alternative in alternatives:\n",
    "        curr_r, curr_p = tec_fit.distribution_compare('power_law', alternative, nested=False)\n",
    "        curr_result.append((curr_r, curr_p))\n",
    "    result.append(curr_result)"
   ]
  },
  {
   "cell_type": "code",
   "execution_count": 10,
   "metadata": {},
   "outputs": [
    {
     "data": {
      "text/html": [
       "<div>\n",
       "<style scoped>\n",
       "    .dataframe tbody tr th:only-of-type {\n",
       "        vertical-align: middle;\n",
       "    }\n",
       "\n",
       "    .dataframe tbody tr th {\n",
       "        vertical-align: top;\n",
       "    }\n",
       "\n",
       "    .dataframe thead th {\n",
       "        text-align: right;\n",
       "    }\n",
       "</style>\n",
       "<table border=\"1\" class=\"dataframe\">\n",
       "  <thead>\n",
       "    <tr style=\"text-align: right;\">\n",
       "      <th></th>\n",
       "      <th>Threshold</th>\n",
       "      <th>k_min</th>\n",
       "      <th>alpha</th>\n",
       "      <th>D statistic</th>\n",
       "      <th>p_fit</th>\n",
       "      <th>exponential</th>\n",
       "      <th>lognormal_positive</th>\n",
       "      <th>truncated_power_law</th>\n",
       "    </tr>\n",
       "  </thead>\n",
       "  <tbody>\n",
       "    <tr>\n",
       "      <th>0</th>\n",
       "      <td>0.90</td>\n",
       "      <td>1.0</td>\n",
       "      <td>1.401101</td>\n",
       "      <td>0.144779</td>\n",
       "      <td>0.0</td>\n",
       "      <td>(49.89887919185541, 0.0035566803765326345)</td>\n",
       "      <td>(-12.106117160038437, 3.7085812827541936e-05)</td>\n",
       "      <td>(-24.399915000442277, 2.8346214264729497e-12)</td>\n",
       "    </tr>\n",
       "    <tr>\n",
       "      <th>1</th>\n",
       "      <td>0.85</td>\n",
       "      <td>1.0</td>\n",
       "      <td>1.509413</td>\n",
       "      <td>0.077487</td>\n",
       "      <td>0.0</td>\n",
       "      <td>(381.17397437571276, 1.88940594226276e-48)</td>\n",
       "      <td>(-11.443810416206889, 0.022920229058544135)</td>\n",
       "      <td>(-29.403556729171598, 1.7430501486614958e-14)</td>\n",
       "    </tr>\n",
       "  </tbody>\n",
       "</table>\n",
       "</div>"
      ],
      "text/plain": [
       "   Threshold  k_min     alpha  D statistic  p_fit  \\\n",
       "0       0.90    1.0  1.401101     0.144779    0.0   \n",
       "1       0.85    1.0  1.509413     0.077487    0.0   \n",
       "\n",
       "                                  exponential  \\\n",
       "0  (49.89887919185541, 0.0035566803765326345)   \n",
       "1  (381.17397437571276, 1.88940594226276e-48)   \n",
       "\n",
       "                              lognormal_positive  \\\n",
       "0  (-12.106117160038437, 3.7085812827541936e-05)   \n",
       "1    (-11.443810416206889, 0.022920229058544135)   \n",
       "\n",
       "                             truncated_power_law  \n",
       "0  (-24.399915000442277, 2.8346214264729497e-12)  \n",
       "1  (-29.403556729171598, 1.7430501486614958e-14)  "
      ]
     },
     "execution_count": 10,
     "metadata": {},
     "output_type": "execute_result"
    }
   ],
   "source": [
    "result_df = pd.DataFrame(\n",
    "    result, \n",
    "    columns=['k_min', 'alpha', 'D statistic', 'p_fit', 'exponential', 'lognormal_positive', 'truncated_power_law']\n",
    ")\n",
    "result_df.insert(0, 'Threshold', thresholds)\n",
    "result_df.head()"
   ]
  },
  {
   "cell_type": "code",
   "execution_count": 11,
   "metadata": {},
   "outputs": [
    {
     "data": {
      "text/html": [
       "<div>\n",
       "<style scoped>\n",
       "    .dataframe tbody tr th:only-of-type {\n",
       "        vertical-align: middle;\n",
       "    }\n",
       "\n",
       "    .dataframe tbody tr th {\n",
       "        vertical-align: top;\n",
       "    }\n",
       "\n",
       "    .dataframe thead th {\n",
       "        text-align: right;\n",
       "    }\n",
       "</style>\n",
       "<table border=\"1\" class=\"dataframe\">\n",
       "  <thead>\n",
       "    <tr style=\"text-align: right;\">\n",
       "      <th></th>\n",
       "      <th>Threshold</th>\n",
       "      <th>k_min</th>\n",
       "      <th>alpha</th>\n",
       "      <th>D statistic</th>\n",
       "      <th>p_fit</th>\n",
       "      <th>exponential</th>\n",
       "      <th>lognormal_positive</th>\n",
       "      <th>truncated_power_law</th>\n",
       "    </tr>\n",
       "  </thead>\n",
       "  <tbody>\n",
       "    <tr>\n",
       "      <th>0</th>\n",
       "      <td>0.90</td>\n",
       "      <td>1.0</td>\n",
       "      <td>1.4011</td>\n",
       "      <td>0.1448</td>\n",
       "      <td>0.0</td>\n",
       "      <td>(49.8989, 0.0036)</td>\n",
       "      <td>(-12.1061, 0.0)</td>\n",
       "      <td>(-24.3999, 0.0)</td>\n",
       "    </tr>\n",
       "    <tr>\n",
       "      <th>1</th>\n",
       "      <td>0.85</td>\n",
       "      <td>1.0</td>\n",
       "      <td>1.5094</td>\n",
       "      <td>0.0775</td>\n",
       "      <td>0.0</td>\n",
       "      <td>(381.174, 0.0)</td>\n",
       "      <td>(-11.4438, 0.0229)</td>\n",
       "      <td>(-29.4036, 0.0)</td>\n",
       "    </tr>\n",
       "  </tbody>\n",
       "</table>\n",
       "</div>"
      ],
      "text/plain": [
       "   Threshold  k_min   alpha  D statistic  p_fit        exponential  \\\n",
       "0       0.90    1.0  1.4011       0.1448    0.0  (49.8989, 0.0036)   \n",
       "1       0.85    1.0  1.5094       0.0775    0.0     (381.174, 0.0)   \n",
       "\n",
       "   lognormal_positive truncated_power_law  \n",
       "0     (-12.1061, 0.0)     (-24.3999, 0.0)  \n",
       "1  (-11.4438, 0.0229)     (-29.4036, 0.0)  "
      ]
     },
     "execution_count": 11,
     "metadata": {},
     "output_type": "execute_result"
    }
   ],
   "source": [
    "# rounding the results to 4 decimal points can cause small values to become 0!\n",
    "rounded_result = []\n",
    "for r in result:\n",
    "    curr_round = []\n",
    "    for curr in r:\n",
    "        if type(curr) is tuple:\n",
    "            curr = (round(curr[0], 4), round(curr[1], 4))\n",
    "            curr_round.append(curr)\n",
    "        else:\n",
    "            curr_round.append(round(curr, 4))\n",
    "    rounded_result.append(curr_round)\n",
    "\n",
    "result_df = pd.DataFrame(\n",
    "    rounded_result, \n",
    "    columns=['k_min', 'alpha', 'D statistic', 'p_fit', 'exponential', 'lognormal_positive', 'truncated_power_law']\n",
    ")\n",
    "result_df.insert(0, 'Threshold', thresholds)\n",
    "result_df.head()"
   ]
  }
 ],
 "metadata": {
  "kernelspec": {
   "display_name": "Python 3.12.8 ('.venv': venv)",
   "language": "python",
   "name": "python3"
  },
  "language_info": {
   "codemirror_mode": {
    "name": "ipython",
    "version": 3
   },
   "file_extension": ".py",
   "mimetype": "text/x-python",
   "name": "python",
   "nbconvert_exporter": "python",
   "pygments_lexer": "ipython3",
   "version": "3.12.8"
  },
  "orig_nbformat": 4,
  "vscode": {
   "interpreter": {
    "hash": "407944dbc6e053b799f7cdb8407b37bf477d75ee466034f0de1d050ef70e0fe3"
   }
  }
 },
 "nbformat": 4,
 "nbformat_minor": 2
}
