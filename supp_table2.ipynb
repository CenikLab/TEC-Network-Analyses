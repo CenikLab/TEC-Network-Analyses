{
 "cells": [
  {
   "cell_type": "code",
   "execution_count": 8,
   "metadata": {},
   "outputs": [],
   "source": [
    "import networkx as nx\n",
    "import powerlaw\n",
    "import numpy as np\n",
    "import pandas as pd\n",
    "import multiprocessing as mp\n",
    "\n",
    "import sys\n",
    "sys.path.append('..')\n",
    "import network_utils as ne"
   ]
  },
  {
   "cell_type": "code",
   "execution_count": 9,
   "metadata": {},
   "outputs": [],
   "source": [
    "ROUND_DIG = 4\n",
    "with pd.HDFStore('../data/gene_network_data.h5') as store:\n",
    "    tec = store['TEC']\n",
    "np_tec_abs = np.abs(tec.to_numpy(copy=True))"
   ]
  },
  {
   "cell_type": "code",
   "execution_count": 10,
   "metadata": {},
   "outputs": [],
   "source": [
    "thresholds = [0.9, 0.85]\n",
    "#! Running takes multiple hours to finish\n",
    "# thresholds = [0.9, 0.85, 0.8, 0.75, 0.7, 0.65, 0.6, 0.55, 0.5]\n",
    "results = []\n",
    "for thresh in thresholds:\n",
    "    curr_res = []\n",
    "    curr_res.append(thresh)\n",
    "    curr_al = ne.threshold_weighted_adjacency_list(np_tec_abs, thresh)\n",
    "    curr_graph = ne.construct_network(curr_al, \"TEC\", tec.columns)\n",
    "\n",
    "    clustering = nx.average_clustering(curr_graph)\n",
    "    curr_res.append(clustering)\n",
    "\n",
    "    connected_components = nx.connected_components(curr_graph)\n",
    "    connected_components = sorted(connected_components, key=len, reverse=True)\n",
    "    largest = connected_components[0]\n",
    "    curr_graph = curr_graph.subgraph(largest).copy(True)\n",
    "\n",
    "    shortest_p = nx.average_shortest_path_length(curr_graph)\n",
    "    curr_res.append(shortest_p)\n",
    "\n",
    "    results.append(curr_res)"
   ]
  },
  {
   "cell_type": "code",
   "execution_count": 11,
   "metadata": {},
   "outputs": [
    {
     "data": {
      "text/html": [
       "<div>\n",
       "<style scoped>\n",
       "    .dataframe tbody tr th:only-of-type {\n",
       "        vertical-align: middle;\n",
       "    }\n",
       "\n",
       "    .dataframe tbody tr th {\n",
       "        vertical-align: top;\n",
       "    }\n",
       "\n",
       "    .dataframe thead th {\n",
       "        text-align: right;\n",
       "    }\n",
       "</style>\n",
       "<table border=\"1\" class=\"dataframe\">\n",
       "  <thead>\n",
       "    <tr style=\"text-align: right;\">\n",
       "      <th></th>\n",
       "      <th>Threshold</th>\n",
       "      <th>Global clustering coefficient</th>\n",
       "      <th>Average shortest path</th>\n",
       "    </tr>\n",
       "  </thead>\n",
       "  <tbody>\n",
       "    <tr>\n",
       "      <th>0</th>\n",
       "      <td>0.90</td>\n",
       "      <td>0.476810</td>\n",
       "      <td>3.830646</td>\n",
       "    </tr>\n",
       "    <tr>\n",
       "      <th>1</th>\n",
       "      <td>0.85</td>\n",
       "      <td>0.297614</td>\n",
       "      <td>4.168725</td>\n",
       "    </tr>\n",
       "  </tbody>\n",
       "</table>\n",
       "</div>"
      ],
      "text/plain": [
       "   Threshold  Global clustering coefficient  Average shortest path\n",
       "0       0.90                       0.476810               3.830646\n",
       "1       0.85                       0.297614               4.168725"
      ]
     },
     "execution_count": 11,
     "metadata": {},
     "output_type": "execute_result"
    }
   ],
   "source": [
    "result_df = pd.DataFrame(\n",
    "    results, \n",
    "    columns=['Threshold', 'Global clustering coefficient', 'Average shortest path']\n",
    ")\n",
    "result_df.head()"
   ]
  }
 ],
 "metadata": {
  "kernelspec": {
   "display_name": "Python 3.12.8 ('.venv': venv)",
   "language": "python",
   "name": "python3"
  },
  "language_info": {
   "codemirror_mode": {
    "name": "ipython",
    "version": 3
   },
   "file_extension": ".py",
   "mimetype": "text/x-python",
   "name": "python",
   "nbconvert_exporter": "python",
   "pygments_lexer": "ipython3",
   "version": "3.12.8"
  },
  "orig_nbformat": 4,
  "vscode": {
   "interpreter": {
    "hash": "407944dbc6e053b799f7cdb8407b37bf477d75ee466034f0de1d050ef70e0fe3"
   }
  }
 },
 "nbformat": 4,
 "nbformat_minor": 2
}
